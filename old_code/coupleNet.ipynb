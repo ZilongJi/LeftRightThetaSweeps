{
 "cells": [
  {
   "cell_type": "code",
   "execution_count": 1,
   "metadata": {},
   "outputs": [
    {
     "name": "stderr",
     "output_type": "stream",
     "text": [
      "/home/zilong/anaconda3/envs/anticipative_track/lib/python3.9/site-packages/tqdm/auto.py:21: TqdmWarning: IProgress not found. Please update jupyter and ipywidgets. See https://ipywidgets.readthedocs.io/en/stable/user_install.html\n",
      "  from .autonotebook import tqdm as notebook_tqdm\n"
     ]
    }
   ],
   "source": [
    "import jax\n",
    "import brainpy as bp\n",
    "import brainpy.math as bm\n",
    "import numpy as np\n",
    "import matplotlib.pyplot as plt\n",
    "from matplotlib.animation import FuncAnimation"
   ]
  },
  {
   "cell_type": "code",
   "execution_count": 19,
   "metadata": {},
   "outputs": [],
   "source": [
    "class adaptiveCANN1D(bp.dyn.NeuDyn):\n",
    "    def __init__(self, num, tau=0.01, tauv=0.2, m0=1., k=1, a=1.0, A=4., J0=4.,\n",
    "                 z_min=-bm.pi, z_max=bm.pi):\n",
    "        super(adaptiveCANN1D, self).__init__(size=num)\n",
    "\n",
    "        # parameters\n",
    "        self.tau = tau  # The synaptic time constant\n",
    "        self.tauv = tauv\n",
    "        self.k = k # Degree of the rescaled inhibition\n",
    "        self.a = a  # Half-width of the range of excitatory connections\n",
    "        self.A = A  # Magnitude of the external input\n",
    "        self.J0 = J0 # maximum connection value\n",
    "        self.m = tau/tauv*m0  # The adaptation strength\n",
    "\n",
    "        # feature space\n",
    "        self.z_min = z_min\n",
    "        self.z_max = z_max\n",
    "        self.z_range = z_max - z_min\n",
    "        self.x = bm.linspace(z_min, z_max, num)\n",
    "        self.rho = num / self.z_range  # The neural density\n",
    "        self.dx = self.z_range / num  # The stimulus density\n",
    "        self.num = num\n",
    "        # The connection matrix\n",
    "        self.conn_mat = self.make_conn()\n",
    "\n",
    "        # variables\n",
    "        self.r = bm.Variable(bm.zeros(num))\n",
    "        self.u = bm.Variable(bm.zeros(num))\n",
    "        self.v = bm.Variable(bm.zeros(num))\n",
    "        self.input = bm.Variable(bm.zeros(num))\n",
    "\n",
    "    def dist(self, d):\n",
    "        d = bm.remainder(d, self.z_range)\n",
    "        d = bm.where(d > 0.5 * self.z_range, d - self.z_range, d)\n",
    "        return d\n",
    "\n",
    "\n",
    "    def make_conn(self):\n",
    "        x_left = bm.reshape(self.x, (-1, 1))\n",
    "        x_right = bm.repeat(self.x.reshape((1, -1)), len(self.x), axis=0)\n",
    "        d = self.dist(x_left - x_right)\n",
    "        conn = self.J0 * bm.exp(-0.5 * bm.square(d / self.a)) / (bm.sqrt(2 * bm.pi) * self.a)\n",
    "        return conn\n",
    "\n",
    "    def get_stimulus_by_pos(self, pos):\n",
    "        return self.A * bm.exp(-0.25 * bm.square(self.dist(self.x - pos) / self.a))\n",
    "\n",
    "    def update(self):\n",
    "        #print(bp.share['dt'])\n",
    "        r1 = bm.square(self.u)\n",
    "        r2 = 1.0 + self.k * bm.sum(r1)\n",
    "        self.r.value = r1 / r2\n",
    "        \n",
    "        interaction = bm.dot(self.conn_mat, self.r)\n",
    "        \n",
    "        self.u.value = self.u + (-self.u + interaction + self.input - self.v) / self.tau * bp.share['dt']\n",
    "        self.u = bm.where(self.u>0, self.u, 0) #nonnegative constraint\n",
    "        self.v.value = self.v + (-self.v + self.m * self.u) / self.tauv *  bp.share['dt']\n",
    "\n",
    "        self.input[:] = 0."
   ]
  },
  {
   "cell_type": "code",
   "execution_count": 20,
   "metadata": {},
   "outputs": [],
   "source": [
    "def calculate_inst_speed(directions, samples_per_sec):\n",
    "    diff_dist = np.diff(directions.flatten())\n",
    "    #consider the periodic boundary condition that is, if diff > pi, then diff = diff - 2*pi\n",
    "    #if diff < -pi, then diff = diff + 2*pi\n",
    "    diff_dist = np.where(diff_dist > np.pi, diff_dist - 2*np.pi, diff_dist)\n",
    "    diff_dist = np.where(diff_dist < -np.pi, diff_dist + 2*np.pi, diff_dist)\n",
    "    inst_speed = diff_dist*samples_per_sec\n",
    "    #insert the first element the same as the second element\n",
    "    inst_speed = np.insert(inst_speed, 0, 0)\n",
    "    return inst_speed"
   ]
  },
  {
   "cell_type": "code",
   "execution_count": 32,
   "metadata": {},
   "outputs": [
    {
     "name": "stderr",
     "output_type": "stream",
     "text": [
      "Predict 36000 steps: : 100%|██████████| 36000/36000 [00:00<00:00, 140895.68it/s]\n"
     ]
    }
   ],
   "source": [
    "# tracking\n",
    "duration = 360 #in seconds\n",
    "samples_per_sec = 100\n",
    "dim = 100 #dimension of the network in each direction\n",
    "m0= 100 #adaptation strength\n",
    "\n",
    "#build the network\n",
    "adapt_cann = adaptiveCANN1D(num=dim, m0=m0, a=1.0)\n",
    "\n",
    "#prepare the input\n",
    "data = np.load('./traces/OneDtrajectory_dur360_speedMean0.0_speedStd0.1.npz')\n",
    "directions = data['Direction']\n",
    "directions = bm.asarray(directions[:duration*samples_per_sec])\n",
    "\n",
    "Iext = adapt_cann.get_stimulus_by_pos(directions)\n",
    "\n",
    "runner = bp.DSRunner(adapt_cann,\n",
    "                     inputs=['input', Iext, 'iter'],\n",
    "                     monitors=['r'], dt=0.01)\n",
    "runner.run(duration)"
   ]
  },
  {
   "cell_type": "code",
   "execution_count": 33,
   "metadata": {},
   "outputs": [
    {
     "name": "stderr",
     "output_type": "stream",
     "text": [
      "MovieWriter imagemagick unavailable; using Pillow instead.\n"
     ]
    },
    {
     "data": {
      "image/png": "[encoded data removed]",
      "text/plain": [
       "<Figure size 600x200 with 1 Axes>"
      ]
     },
     "metadata": {},
     "output_type": "display_data"
    }
   ],
   "source": [
    "values = runner.mon.r\n",
    "\n",
    "fig, ax = plt.subplots(figsize=(6, 2), dpi=100)\n",
    "start = 0\n",
    "end = 500\n",
    "values = runner.mon.r[start:end]  # Adjusted for the selected data range.\n",
    "direction_int = ((directions + np.pi) / (2 * np.pi) * dim).astype(int)[start:end]\n",
    "speeds = calculate_inst_speed(directions[start:end], samples_per_sec)\n",
    "\n",
    "def update(i):\n",
    "    ax.clear()\n",
    "    # Plot the current frame's values as a line plot.\n",
    "    ax.plot(values[i], color='#009FB9')\n",
    "    # Mark the direction as a star on the line plot.\n",
    "    # ax.plot(direction_int[i], 0, 'r*', markersize=10)\n",
    "    #Mark the direction as a vertical dashed line on\n",
    "    ax.axvline(x=direction_int[i], color='#F18D00', linestyle='--')\n",
    "    \n",
    "    # Round the speed to 2 decimal places without using np.round.\n",
    "    round_speed = int(speeds[i] * 100) / 100\n",
    "    ax.set_title(f'frame {i}, time: {np.round(i / samples_per_sec, 2)}s, speed: {round_speed} rad/s')\n",
    "    ax.set_yticks([])  # Hide y-axis ticks.\n",
    "    plt.tight_layout()  # Use tight layout.\n",
    "    return ax\n",
    "\n",
    "ani = FuncAnimation(fig, update, frames=len(values), interval=int(1000 / samples_per_sec))\n",
    "\n",
    "# Save the animation to a file as a gif.\n",
    "ani.save(f'./animations/adapt1Dcann_ani_m{m0}.gif', writer='imagemagick', fps=samples_per_sec)\n"
   ]
  },
  {
   "cell_type": "code",
   "execution_count": null,
   "metadata": {},
   "outputs": [],
   "source": []
  }
 ],
 "metadata": {
  "kernelspec": {
   "display_name": "anticipative_track",
   "language": "python",
   "name": "python3"
  },
  "language_info": {
   "codemirror_mode": {
    "name": "ipython",
    "version": 3
   },
   "file_extension": ".py",
   "mimetype": "text/x-python",
   "name": "python",
   "nbconvert_exporter": "python",
   "pygments_lexer": "ipython3",
   "version": "3.9.18"
  }
 },
 "nbformat": 4,
 "nbformat_minor": 2
}
